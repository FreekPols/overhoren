{
 "cells": [
  {
   "cell_type": "code",
   "execution_count": null,
   "id": "665f9859",
   "metadata": {},
   "outputs": [
    {
     "name": "stderr",
     "output_type": "stream",
     "text": [
      "<>:5: SyntaxWarning: list indices must be integers or slices, not tuple; perhaps you missed a comma?\n",
      "C:\\Users\\fpols\\AppData\\Local\\Temp\\ipykernel_25112\\3949862613.py:5: SyntaxWarning: list indices must be integers or slices, not tuple; perhaps you missed a comma?\n",
      "  [\"a plump person\", \"een stevig persoon\"]\n"
     ]
    },
    {
     "ename": "TypeError",
     "evalue": "list indices must be integers or slices, not tuple",
     "output_type": "error",
     "traceback": [
      "\u001b[31m---------------------------------------------------------------------------\u001b[39m",
      "\u001b[31mTypeError\u001b[39m                                 Traceback (most recent call last)",
      "\u001b[36mCell\u001b[39m\u001b[36m \u001b[39m\u001b[32mIn[2]\u001b[39m\u001b[32m, line 5\u001b[39m\n\u001b[32m      1\u001b[39m \u001b[38;5;28;01mimport\u001b[39;00m\u001b[38;5;250m \u001b[39m\u001b[34;01mnumpy\u001b[39;00m\u001b[38;5;250m \u001b[39m\u001b[38;5;28;01mas\u001b[39;00m\u001b[38;5;250m \u001b[39m\u001b[34;01mnp\u001b[39;00m\n\u001b[32m      2\u001b[39m woorden = [[\u001b[33m\"\u001b[39m\u001b[33mcoat\u001b[39m\u001b[33m\"\u001b[39m,\u001b[33m\"\u001b[39m\u001b[33mjas\u001b[39m\u001b[33m\"\u001b[39m], \n\u001b[32m      3\u001b[39m            [\u001b[33m\"\u001b[39m\u001b[33mtrousers\u001b[39m\u001b[33m\"\u001b[39m,\u001b[33m\"\u001b[39m\u001b[33mbroek\u001b[39m\u001b[33m\"\u001b[39m],\n\u001b[32m      4\u001b[39m            [\u001b[33m\"\u001b[39m\u001b[33mtall\u001b[39m\u001b[33m\"\u001b[39m,\u001b[33m\"\u001b[39m\u001b[33mlang\u001b[39m\u001b[33m\"\u001b[39m],\n\u001b[32m----> \u001b[39m\u001b[32m5\u001b[39m            \u001b[43m[\u001b[49m\u001b[33;43m\"\u001b[39;49m\u001b[33;43ma plump person\u001b[39;49m\u001b[33;43m\"\u001b[39;49m\u001b[43m,\u001b[49m\u001b[43m \u001b[49m\u001b[33;43m\"\u001b[39;49m\u001b[33;43meen stevig persoon\u001b[39;49m\u001b[33;43m\"\u001b[39;49m\u001b[43m]\u001b[49m\n\u001b[32m      6\u001b[39m \u001b[43m           \u001b[49m\u001b[43m[\u001b[49m\u001b[33;43m\"\u001b[39;49m\u001b[33;43ma thin person\u001b[39;49m\u001b[33;43m\"\u001b[39;49m\u001b[43m,\u001b[49m\u001b[43m \u001b[49m\u001b[33;43m\"\u001b[39;49m\u001b[33;43meen dun persoon\u001b[39;49m\u001b[33;43m\"\u001b[39;49m\u001b[43m]\u001b[49m\n\u001b[32m      7\u001b[39m            [\u001b[33m\"\u001b[39m\u001b[33ma pair of shoes\u001b[39m\u001b[33m\"\u001b[39m, \u001b[33m\"\u001b[39m\u001b[33meen paar schoenen\u001b[39m\u001b[33m\"\u001b[39m]\n\u001b[32m      8\u001b[39m            [\u001b[33m\"\u001b[39m\u001b[33ma tall person\u001b[39m\u001b[33m\"\u001b[39m, \u001b[33m\"\u001b[39m\u001b[33meen lang persoon\u001b[39m\u001b[33m\"\u001b[39m]\n\u001b[32m      9\u001b[39m            [\u001b[33m\"\u001b[39m\u001b[33ma short person\u001b[39m\u001b[33m\"\u001b[39m, \u001b[33m\"\u001b[39m\u001b[33meen klein persoon\u001b[39m\u001b[33m\"\u001b[39m]\n\u001b[32m     10\u001b[39m            [\u001b[33m\"\u001b[39m\u001b[33mbeautiful\u001b[39m\u001b[33m\"\u001b[39m, \u001b[33m\"\u001b[39m\u001b[33mmooi\u001b[39m\u001b[33m\"\u001b[39m]\n\u001b[32m     11\u001b[39m            [\u001b[33m\"\u001b[39m\u001b[33mblond hair\u001b[39m\u001b[33m\"\u001b[39m,\u001b[33m\"\u001b[39m\u001b[33mblond haar\u001b[39m\u001b[33m\"\u001b[39m]\n\u001b[32m     12\u001b[39m            [\u001b[33m\"\u001b[39m\u001b[33mold\u001b[39m\u001b[33m\"\u001b[39m,\u001b[33m\"\u001b[39m\u001b[33moud\u001b[39m\u001b[33m\"\u001b[39m]\n\u001b[32m     13\u001b[39m            [\u001b[33m\"\u001b[39m\u001b[33myoung\u001b[39m\u001b[33m\"\u001b[39m, \u001b[33m\"\u001b[39m\u001b[33mjong\u001b[39m\u001b[33m\"\u001b[39m]\n\u001b[32m     14\u001b[39m            [\u001b[33m\"\u001b[39m\u001b[33mpink\u001b[39m\u001b[33m\"\u001b[39m, \u001b[33m\"\u001b[39m\u001b[33mroze\u001b[39m\u001b[33m\"\u001b[39m]\n\u001b[32m     15\u001b[39m            [\u001b[33m\"\u001b[39m\u001b[33mpurple\u001b[39m\u001b[33m\"\u001b[39m, \u001b[33m\"\u001b[39m\u001b[33mpaars\u001b[39m\u001b[33m\"\u001b[39m]\n\u001b[32m     16\u001b[39m            [\u001b[33m\"\u001b[39m\u001b[33mshort hair\u001b[39m\u001b[33m\"\u001b[39m, \u001b[33m\"\u001b[39m\u001b[33mkort haar\u001b[39m\u001b[33m\"\u001b[39m]\n\u001b[32m     17\u001b[39m            [\u001b[33m\"\u001b[39m\u001b[33mlong hair\u001b[39m\u001b[33m\"\u001b[39m,\u001b[33m\"\u001b[39m\u001b[33mlang haar\u001b[39m\u001b[33m\"\u001b[39m]\n\u001b[32m     18\u001b[39m            [\u001b[33m\"\u001b[39m\u001b[33mskirt\u001b[39m\u001b[33m\"\u001b[39m,\u001b[33m\"\u001b[39m\u001b[33mrok\u001b[39m\u001b[33m\"\u001b[39m]\n\u001b[32m     19\u001b[39m            [\u001b[33m\"\u001b[39m\u001b[33msocks\u001b[39m\u001b[33m\"\u001b[39m,\u001b[33m\"\u001b[39m\u001b[33msokken\u001b[39m\u001b[33m\"\u001b[39m]\n\u001b[32m     20\u001b[39m            [\u001b[33m\"\u001b[39m\u001b[33mblouse\u001b[39m\u001b[33m\"\u001b[39m,\u001b[33m\"\u001b[39m\u001b[33mbloes\u001b[39m\u001b[33m\"\u001b[39m]\n\u001b[32m     21\u001b[39m            [\u001b[33m\"\u001b[39m\u001b[33msweater\u001b[39m\u001b[33m\"\u001b[39m,\u001b[33m\"\u001b[39m\u001b[33mtrui\u001b[39m\u001b[33m\"\u001b[39m]\n\u001b[32m     22\u001b[39m            [\u001b[33m\"\u001b[39m\u001b[33mboots\u001b[39m\u001b[33m\"\u001b[39m,\u001b[33m\"\u001b[39m\u001b[33mlaarzen\u001b[39m\u001b[33m\"\u001b[39m]\n\u001b[32m     23\u001b[39m            [\u001b[33m\"\u001b[39m\u001b[33mto describe\u001b[39m\u001b[33m\"\u001b[39m,\u001b[33m\"\u001b[39m\u001b[33mbeschrijven van iets\u001b[39m\u001b[33m\"\u001b[39m]\n\u001b[32m     24\u001b[39m            [\u001b[33m\"\u001b[39m\u001b[33mclothes\u001b[39m\u001b[33m\"\u001b[39m,\u001b[33m\"\u001b[39m\u001b[33mkleren\u001b[39m\u001b[33m\"\u001b[39m]\n\u001b[32m     25\u001b[39m            [\u001b[33m\"\u001b[39m\u001b[33mcolour\u001b[39m\u001b[33m\"\u001b[39m,\u001b[33m\"\u001b[39m\u001b[33mkleur\u001b[39m\u001b[33m\"\u001b[39m]\n\u001b[32m     26\u001b[39m            [\u001b[33m\"\u001b[39m\u001b[33mcurly hair\u001b[39m\u001b[33m\"\u001b[39m,\u001b[33m\"\u001b[39m\u001b[33mkrullend haar\u001b[39m\u001b[33m\"\u001b[39m]\n\u001b[32m     27\u001b[39m            [\u001b[33m\"\u001b[39m\u001b[33mstraight hair\u001b[39m\u001b[33m\"\u001b[39m,\u001b[33m\"\u001b[39m\u001b[33msteil haar\u001b[39m\u001b[33m\"\u001b[39m]\n\u001b[32m     28\u001b[39m            [\u001b[33m\"\u001b[39m\u001b[33mto dress\u001b[39m\u001b[33m\"\u001b[39m,\u001b[33m\"\u001b[39m\u001b[33maankleden\u001b[39m\u001b[33m\"\u001b[39m]\n\u001b[32m     29\u001b[39m            [\u001b[33m\"\u001b[39m\u001b[33mto show\u001b[39m\u001b[33m\"\u001b[39m,\u001b[33m\"\u001b[39m\u001b[33mlaten zien\u001b[39m\u001b[33m\"\u001b[39m]\n\u001b[32m     30\u001b[39m            [\u001b[33m\"\u001b[39m\u001b[33mto shop\u001b[39m\u001b[33m\"\u001b[39m,\u001b[33m\"\u001b[39m\u001b[33mwinkelen\u001b[39m\u001b[33m\"\u001b[39m]\n\u001b[32m     31\u001b[39m            [\u001b[33m\"\u001b[39m\u001b[33mto wear\u001b[39m\u001b[33m\"\u001b[39m,\u001b[33m\"\u001b[39m\u001b[33mdragen van kleding\u001b[39m\u001b[33m\"\u001b[39m]\n\u001b[32m     32\u001b[39m            [\u001b[33m\"\u001b[39m\u001b[33mdress\u001b[39m\u001b[33m\"\u001b[39m,\u001b[33m\"\u001b[39m\u001b[33mjurk\u001b[39m\u001b[33m\"\u001b[39m]\n\u001b[32m     33\u001b[39m            [\u001b[33m\"\u001b[39m\u001b[33mjeans\u001b[39m\u001b[33m\"\u001b[39m,\u001b[33m\"\u001b[39m\u001b[33mspijkerbroek\u001b[39m\u001b[33m\"\u001b[39m]\n\u001b[32m     34\u001b[39m            [\u001b[33m\"\u001b[39m\u001b[33mglasses\u001b[39m\u001b[33m\"\u001b[39m,\u001b[33m\"\u001b[39m\u001b[33mbril\u001b[39m\u001b[33m\"\u001b[39m]\n\u001b[32m     35\u001b[39m            [\u001b[33m\"\u001b[39m\u001b[33mwashing machine\u001b[39m\u001b[33m\"\u001b[39m,\u001b[33m\"\u001b[39m\u001b[33mwasmachine\u001b[39m\u001b[33m\"\u001b[39m]\n\u001b[32m     36\u001b[39m            [\u001b[33m\"\u001b[39m\u001b[33mearrings\u001b[39m\u001b[33m\"\u001b[39m,\u001b[33m\"\u001b[39m\u001b[33moorbellen\u001b[39m\u001b[33m\"\u001b[39m]\n\u001b[32m     37\u001b[39m            ]\n\u001b[32m     39\u001b[39m goed = [\u001b[33m\"\u001b[39m\u001b[33mklasse!\u001b[39m\u001b[33m\"\u001b[39m,\u001b[33m\"\u001b[39m\u001b[33mtopper\u001b[39m\u001b[33m\"\u001b[39m,\u001b[33m\"\u001b[39m\u001b[33mwauw!\u001b[39m\u001b[33m\"\u001b[39m,\u001b[33m\"\u001b[39m\u001b[33mgoed zo!\u001b[39m\u001b[33m\"\u001b[39m,\u001b[33m\"\u001b[39m\u001b[33mwe gaan voor de 10!\u001b[39m\u001b[33m\"\u001b[39m,\u001b[33m\"\u001b[39m\u001b[33mnice\u001b[39m\u001b[33m\"\u001b[39m,\u001b[33m\"\u001b[39m\u001b[33mbeautiful\u001b[39m\u001b[33m\"\u001b[39m]\n",
      "\u001b[31mTypeError\u001b[39m: list indices must be integers or slices, not tuple"
     ]
    }
   ],
   "source": [
    "import numpy as np\n",
    "woorden = [[\"coat\",\"jas\"], \n",
    "           [\"trousers\",\"broek\"],\n",
    "           [\"tall\",\"lang\"],\n",
    "           [\"a plump person\", \"een stevig persoon\"],\n",
    "           [\"a thin person\", \"een dun persoon\"],\n",
    "           [\"a pair of shoes\", \"een paar schoenen\"],\n",
    "           [\"a tall person\", \"een lang persoon\"],\n",
    "           [\"a short person\", \"een klein persoon\"],\n",
    "           [\"beautiful\", \"mooi\"],\n",
    "           [\"blond hair\",\"blond haar\"],\n",
    "           [\"old\",\"oud\"],\n",
    "           [\"young\", \"jong\"],\n",
    "           [\"pink\", \"roze\"],\n",
    "           [\"purple\", \"paars\"],\n",
    "           [\"short hair\", \"kort haar\"],\n",
    "           [\"long hair\",\"lang haar\"],\n",
    "           [\"skirt\",\"rok\"],\n",
    "           [\"socks\",\"sokken\"],\n",
    "           [\"blouse\",\"bloes\"],\n",
    "           [\"sweater\",\"trui\"],\n",
    "           [\"boots\",\"laarzen\"],\n",
    "           [\"to describe\",\"beschrijven van iets\"],\n",
    "           [\"clothes\",\"kleren\"],\n",
    "           [\"colour\",\"kleur\"],\n",
    "           [\"curly hair\",\"krullend haar\"],\n",
    "           [\"straight hair\",\"steil haar\"],\n",
    "           [\"to dress\",\"aankleden\"],\n",
    "           [\"to show\",\"laten zien\"],\n",
    "           [\"to shop\",\"winkelen\"],\n",
    "           [\"to wear\",\"dragen van kleding\"],\n",
    "           [\"dress\",\"jurk\"],\n",
    "           [\"jeans\",\"spijkerbroek\"],\n",
    "           [\"glasses\",\"bril\"],\n",
    "           [\"washing machine\",\"wasmachine\"],\n",
    "           [\"earrings\",\"oorbellen\"]\n",
    "           ]\n",
    "\n",
    "goed = [\"klasse!\",\"topper\",\"wauw!\",\"goed zo!\",\"we gaan voor de 10!\",\"nice\",\"beautiful\"]"
   ]
  },
  {
   "cell_type": "code",
   "execution_count": 3,
   "id": "5edf802b",
   "metadata": {},
   "outputs": [
    {
     "ename": "NameError",
     "evalue": "name 'woorden' is not defined",
     "output_type": "error",
     "traceback": [
      "\u001b[31m---------------------------------------------------------------------------\u001b[39m",
      "\u001b[31mNameError\u001b[39m                                 Traceback (most recent call last)",
      "\u001b[36mCell\u001b[39m\u001b[36m \u001b[39m\u001b[32mIn[3]\u001b[39m\u001b[32m, line 4\u001b[39m\n\u001b[32m      2\u001b[39m N = \u001b[32m10\u001b[39m\n\u001b[32m      3\u001b[39m \u001b[38;5;28;01mfor\u001b[39;00m i \u001b[38;5;129;01min\u001b[39;00m \u001b[38;5;28mrange\u001b[39m(N):\n\u001b[32m----> \u001b[39m\u001b[32m4\u001b[39m     woord = np.random.randint(\u001b[32m0\u001b[39m,\u001b[38;5;28mlen\u001b[39m(\u001b[43mwoorden\u001b[49m))\n\u001b[32m      5\u001b[39m     taal = np.random.randint(\u001b[32m0\u001b[39m,\u001b[32m2\u001b[39m)\n\u001b[32m      7\u001b[39m     \u001b[38;5;28mprint\u001b[39m(woorden[woord][taal])\n",
      "\u001b[31mNameError\u001b[39m: name 'woorden' is not defined"
     ]
    }
   ],
   "source": [
    "counter = 0\n",
    "N = 10\n",
    "for i in range(N):\n",
    "    woord = np.random.randint(0,len(woorden))\n",
    "    taal = np.random.randint(0,2)\n",
    "    \n",
    "    print(woorden[woord][taal])\n",
    "\n",
    "    antwoord = input(\"vertaling\")\n",
    "\n",
    "    if antwoord == woorden[woord][1-taal]:\n",
    "        reactie = goed[rand.randint(0,len(goed))]\n",
    "        print(reactie)\n",
    "        counter += 1\n",
    "    else:\n",
    "        print(\"niet goed\")\n",
    "\n",
    "print(counter/N*9+1)\n"
   ]
  },
  {
   "cell_type": "code",
   "execution_count": null,
   "id": "e492c9f0",
   "metadata": {},
   "outputs": [],
   "source": []
  }
 ],
 "metadata": {
  "kernelspec": {
   "display_name": "base",
   "language": "python",
   "name": "python3"
  },
  "language_info": {
   "codemirror_mode": {
    "name": "ipython",
    "version": 3
   },
   "file_extension": ".py",
   "mimetype": "text/x-python",
   "name": "python",
   "nbconvert_exporter": "python",
   "pygments_lexer": "ipython3",
   "version": "3.13.5"
  }
 },
 "nbformat": 4,
 "nbformat_minor": 5
}
