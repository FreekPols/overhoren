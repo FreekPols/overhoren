{
 "cells": [
  {
   "cell_type": "markdown",
   "id": "f98d3d82",
   "metadata": {},
   "source": [
    "# Overhoren Engelse woordjes week 1"
   ]
  },
  {
   "cell_type": "code",
   "execution_count": null,
   "id": "665f9859",
   "metadata": {
    "tags": [
     "hide-input"
    ]
   },
   "outputs": [],
   "source": [
    "import numpy as np\n",
    "woorden = [[\"coat\",\"jas\"], \n",
    "           [\"trousers\",\"broek\"],\n",
    "           [\"tall\",\"lang\"],\n",
    "           [\"a plump person\", \"een stevig persoon\"],\n",
    "           [\"a thin person\", \"een dun persoon\"],\n",
    "           [\"a pair of shoes\", \"een paar schoenen\"],\n",
    "           [\"a tall person\", \"een lang persoon\"],\n",
    "           [\"a short person\", \"een klein persoon\"],\n",
    "           [\"beautiful\", \"mooi\"],\n",
    "           [\"blond hair\",\"blond haar\"],\n",
    "           [\"old\",\"oud\"],\n",
    "           [\"young\", \"jong\"],\n",
    "           [\"pink\", \"roze\"],\n",
    "           [\"purple\", \"paars\"],\n",
    "           [\"short hair\", \"kort haar\"],\n",
    "           [\"long hair\",\"lang haar\"],\n",
    "           [\"skirt\",\"rok\"],\n",
    "           [\"socks\",\"sokken\"],\n",
    "           [\"blouse\",\"bloes\"],\n",
    "           [\"sweater\",\"trui\"],\n",
    "           [\"boots\",\"laarzen\"],\n",
    "           [\"to describe\",\"beschrijven van iets\"],\n",
    "           [\"clothes\",\"kleren\"],\n",
    "           [\"colour\",\"kleur\"],\n",
    "           [\"curly hair\",\"krullend haar\"],\n",
    "           [\"straight hair\",\"steil haar\"],\n",
    "           [\"to dress\",\"aankleden\"],\n",
    "           [\"to show\",\"laten zien\"],\n",
    "           [\"to shop\",\"winkelen\"],\n",
    "           [\"to wear\",\"dragen van kleding\"],\n",
    "           [\"dress\",\"jurk\"],\n",
    "           [\"jeans\",\"spijkerbroek\"],\n",
    "           [\"glasses\",\"bril\"],\n",
    "           [\"washing machine\",\"wasmachine\"],\n",
    "           [\"earrings\",\"oorbellen\"]\n",
    "           ]\n",
    "\n",
    "goed = [\"klasse!\",\"topper\",\"wauw!\",\"goed zo!\",\"we gaan voor de 10!\",\"nice\",\"beautiful\"]"
   ]
  },
  {
   "cell_type": "code",
   "execution_count": null,
   "id": "5edf802b",
   "metadata": {},
   "outputs": [],
   "source": [
    "counter = 0\n",
    "N = 10\n",
    "for i in range(N):\n",
    "    woord = np.random.randint(0,len(woorden))\n",
    "    taal = np.random.randint(0,2)\n",
    "    \n",
    "    print(woorden[woord][taal])\n",
    "\n",
    "    antwoord = input(\"vertaling\")\n",
    "\n",
    "    if antwoord == woorden[woord][1-taal]:\n",
    "        reactie = goed[np.random.randint(0,len(goed))]\n",
    "        print(reactie)\n",
    "        counter += 1\n",
    "    else:\n",
    "        print(\"Helaas, niet goed\")\n",
    "\n",
    "print(counter/N*9+1)\n"
   ]
  },
  {
   "cell_type": "code",
   "execution_count": null,
   "id": "e492c9f0",
   "metadata": {},
   "outputs": [],
   "source": []
  }
 ],
 "metadata": {
  "kernelspec": {
   "display_name": "base",
   "language": "python",
   "name": "python3"
  },
  "language_info": {
   "codemirror_mode": {
    "name": "ipython",
    "version": 3
   },
   "file_extension": ".py",
   "mimetype": "text/x-python",
   "name": "python",
   "nbconvert_exporter": "python",
   "pygments_lexer": "ipython3",
   "version": "3.13.5"
  }
 },
 "nbformat": 4,
 "nbformat_minor": 5
}
